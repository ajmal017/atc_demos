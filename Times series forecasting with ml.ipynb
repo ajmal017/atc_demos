{
 "cells": [
  {
   "cell_type": "code",
   "execution_count": 49,
   "metadata": {},
   "outputs": [
    {
     "name": "stdout",
     "output_type": "stream",
     "text": [
      "             precision    recall  f1-score   support\n",
      "\n",
      "          0       0.76      0.62      0.68        50\n",
      "          1       0.70      0.82      0.76        55\n",
      "\n",
      "avg / total       0.73      0.72      0.72       105\n",
      "\n"
     ]
    }
   ],
   "source": [
    "from yahoo_fin.stock_info import get_data\n",
    "import numpy as np\n",
    "\n",
    "\n",
    "def get_ml_formatted_data(ticker, start_date='01/01/2015', end_date='01/01/2020'):\n",
    "    # Step 1: get data\n",
    "    x = get_data(ticker=ticker,start_date=start_date, end_date=end_date)\n",
    "    # Step 2: process data\n",
    "    del x['ticker']\n",
    "    del x['adjclose']\n",
    "    del x['volume']\n",
    "    y = x.pct_change()\n",
    "    y = y.iloc[1:]\n",
    "\n",
    "    def cust_filter(row):\n",
    "        if (row.name + 1) % 6 == 0:\n",
    "            return int(row['open'] > 0)\n",
    "        else:\n",
    "            return float('NaN')\n",
    "\n",
    "    y.reset_index(drop=True, inplace=True)\n",
    "    y['opened_up'] = y.apply(cust_filter, axis=1)\n",
    "    labels = y['opened_up'].dropna().values.astype(int)\n",
    "    del y['opened_up']\n",
    "\n",
    "    # flatten() makes it so we can put it through our model\n",
    "    chunks = [y[a:a+5].values.flatten() for a in range(0, len(y), 6)]\n",
    "\n",
    "    if len(chunks) > len(labels):\n",
    "        chunks.pop(-1)\n",
    "    data = np.asarray(chunks)\n",
    "    return labels, data\n",
    "def get_ml_data_multiple_tickers(tickers_list, start_date='01/01/2015', end_date='01/01/2020'):\n",
    "    data_list = []\n",
    "    labels_list = []\n",
    "    for ticker in tickers_list:\n",
    "        labels, data = get_ml_formatted_data(ticker)\n",
    "        labels_list.append(labels)\n",
    "        data_list.extend(data)\n",
    "    return np.append([], labels_list), np.asarray(data_list) \n",
    "    \n",
    "from sklearn.neural_network import MLPClassifier\n",
    "from sklearn import metrics\n",
    "from sklearn.model_selection import train_test_split\n",
    "\n",
    "labels, data = get_ml_formatted_data('AAPL')\n",
    "# lbfgs converges fast for small datasets\n",
    "# hidden layers are basically the neurons in between the input and output, I made them 2x # features\n",
    "# which is 4 (1-Open 2-High 3-Low 4-Close)\n",
    "# activation using tanh prevents neuron deaths. neuron deaths cause all outputs to become 0 or all become 1\n",
    "model = MLPClassifier(solver='lbfgs',hidden_layer_sizes=(8,8,8),max_iter=1000, activation='tanh')\n",
    "X_train, X_test, y_train, y_test = train_test_split(data, labels, test_size=.5)\n",
    "model.fit(X_train, y_train)\n",
    "\n",
    "predicted = model.predict(X_test)\n",
    "print(metrics.classification_report(y_test, predicted))\n",
    "\n",
    "\n"
   ]
  },
  {
   "cell_type": "code",
   "execution_count": 46,
   "metadata": {},
   "outputs": [
    {
     "data": {
      "text/plain": [
       "['XRF',\n",
       " 'JFKKW',\n",
       " 'AGNCN',\n",
       " 'SONGW',\n",
       " 'AMZN',\n",
       " 'ASRVP',\n",
       " 'AAPL',\n",
       " 'DCTH',\n",
       " 'ESSCW',\n",
       " 'ESGRO',\n",
       " 'ESGRP',\n",
       " 'MSFT',\n",
       " 'NBACW',\n",
       " 'ECOW',\n",
       " 'SHIPZ']"
      ]
     },
     "execution_count": 46,
     "metadata": {},
     "output_type": "execute_result"
    }
   ],
   "source": [
    "from get_all_tickers.get_tickers import get_tickers_filtered\n",
    "\n",
    "get_tickers_filtered(mktcap_min=)"
   ]
  },
  {
   "cell_type": "code",
   "execution_count": 25,
   "metadata": {},
   "outputs": [
    {
     "name": "stdout",
     "output_type": "stream",
     "text": [
      "       open      high       low     close  opened_up\n",
      "0  0.009278  0.003490  0.006571  0.001965        NaN\n",
      "1  0.000823  0.000461  0.001148 -0.002389        NaN\n",
      "2 -0.001072 -0.002554 -0.000609  0.001001        NaN\n",
      "3  0.009767  0.005228 -0.001398 -0.002071        NaN\n",
      "4 -0.006023  0.005661  0.006498  0.016318        NaN\n",
      "5  0.014829  0.002252  0.009095  0.000951        1.0\n",
      "6  0.000457  0.017867  0.006292  0.019840        NaN\n",
      "7  0.022119  0.013760  0.012013 -0.000379        NaN\n",
      "8 -0.005702 -0.004354 -0.010065  0.005935        NaN\n",
      "9  0.001624  0.003382  0.015076  0.007307        NaN\n",
      "2\n",
      "1\n"
     ]
    }
   ],
   "source": [
    "from yahoo_fin.stock_info import get_data\n",
    "import numpy as np\n",
    "\n",
    "\n",
    "\n",
    "# Step 1: get data\n",
    "x = get_data(ticker='AAPL',start_date='12/15/2019', end_date='01/01/2020')\n",
    "# Step 2: process data\n",
    "del x['ticker']\n",
    "del x['adjclose']\n",
    "del x['volume']\n",
    "y = x.pct_change()\n",
    "y = y.iloc[1:]\n",
    "\n",
    "def cust_filter(row):\n",
    "    if (row.name + 1) % 6 == 0:\n",
    "        return int(row['open'] > 0)\n",
    "    else:\n",
    "        return float('NaN')\n",
    "\n",
    "y.reset_index(drop=True, inplace=True)\n",
    "y['opened_up'] = y.apply(cust_filter, axis=1)\n",
    "print(y)\n",
    "labels = y['opened_up'].dropna().values\n",
    "del y['opened_up']\n",
    "\n",
    "# flatten() makes it so we can put it through our model\n",
    "chunks = [y[a:a+5].values.flatten() for a in range(0, len(y), 6)]\n",
    "if len(chunks > len(labels)):\n",
    "    chunks.pop(-1)\n",
    "\n",
    "data = np.asarray(chunks)\n",
    "print(len(chunks))\n",
    "print(len(labels))\n"
   ]
  },
  {
   "cell_type": "code",
   "execution_count": 29,
   "metadata": {},
   "outputs": [
    {
     "data": {
      "text/plain": [
       "6"
      ]
     },
     "execution_count": 29,
     "metadata": {},
     "output_type": "execute_result"
    }
   ],
   "source": [
    "y = [t for t in range(0, 10, 6)]\n",
    "y.pop(-1)"
   ]
  },
  {
   "cell_type": "code",
   "execution_count": null,
   "metadata": {},
   "outputs": [],
   "source": []
  }
 ],
 "metadata": {
  "kernelspec": {
   "display_name": "Python 3",
   "language": "python",
   "name": "python3"
  },
  "language_info": {
   "codemirror_mode": {
    "name": "ipython",
    "version": 3
   },
   "file_extension": ".py",
   "mimetype": "text/x-python",
   "name": "python",
   "nbconvert_exporter": "python",
   "pygments_lexer": "ipython3",
   "version": "3.6.4"
  }
 },
 "nbformat": 4,
 "nbformat_minor": 2
}
